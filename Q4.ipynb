{
 "cells": [
  {
   "cell_type": "code",
   "execution_count": 44,
   "metadata": {},
   "outputs": [],
   "source": [
    "import pandas as pd\n",
    "\n",
    "df = pd.read_csv(\"weather.csv\")\n",
    "df['Ftemp'] = (df['Ktemp'] - 273.15) * (9/5) + 32\n",
    "# df"
   ]
  },
  {
   "cell_type": "code",
   "execution_count": 43,
   "metadata": {},
   "outputs": [],
   "source": [
    "# ! pip install ipywidgets"
   ]
  },
  {
   "cell_type": "markdown",
   "metadata": {},
   "source": [
    "# a)"
   ]
  },
  {
   "cell_type": "code",
   "execution_count": 42,
   "metadata": {},
   "outputs": [
    {
     "data": {
      "application/vnd.jupyter.widget-view+json": {
       "model_id": "5ef212dddcd84aa2aa68e43ac99b89ba",
       "version_major": 2,
       "version_minor": 0
      },
      "text/plain": [
       "interactive(children=(IntSlider(value=1950, continuous_update=False, description='Year', max=2021, min=1950), …"
      ]
     },
     "metadata": {},
     "output_type": "display_data"
    },
    {
     "data": {
      "text/plain": [
       "<function __main__.plot_data(year)>"
      ]
     },
     "execution_count": 42,
     "metadata": {},
     "output_type": "execute_result"
    }
   ],
   "source": [
    "import matplotlib.pyplot as plt\n",
    "from ipywidgets import interact, IntSlider\n",
    "\n",
    "def plot_data(year):\n",
    "    df[\"Year\"] = pd.to_datetime(df['time']).dt.year\n",
    "    df[\"Month\"] = pd.to_datetime(df['time']).dt.month\n",
    "    \n",
    "    yearly_data = df[df[\"Year\"] == year]\n",
    "    monthly_avg = yearly_data.groupby('Month')['Ftemp'].mean()\n",
    "    plt.figure(figsize=(12, 8))\n",
    "    plt.plot(monthly_avg.index, monthly_avg.values, marker='o')\n",
    "    plt.xlabel('Month')\n",
    "    plt.ylabel('Average Temperature (Fahrenheit)')\n",
    "    plt.title(f'Yearly Average Temperature for {year}')\n",
    "    plt.xticks(range(1, 13), ['Jan', 'Feb', 'Mar', 'Apr', 'May', 'Jun', 'Jul', 'Aug', 'Sep', 'Oct', 'Nov', 'Dec'])\n",
    "    plt.grid(True)\n",
    "    plt.show()\n",
    "\n",
    "min_year = 1950\n",
    "max_year = 2021\n",
    "year_slider = IntSlider(min=min_year, max=max_year, step=1, description='Year', continuous_update=False)\n",
    "interact(plot_data, year=year_slider)\n",
    "\n"
   ]
  },
  {
   "cell_type": "markdown",
   "metadata": {},
   "source": [
    "# b)"
   ]
  },
  {
   "cell_type": "code",
   "execution_count": 11,
   "metadata": {},
   "outputs": [
    {
     "name": "stdout",
     "output_type": "stream",
     "text": [
      "Year\n",
      "1953    55.295208\n",
      "1990    55.598589\n",
      "1991    55.555546\n",
      "1998    56.114906\n",
      "2002    55.259167\n",
      "2006    55.748507\n",
      "2010    55.695993\n",
      "2011    55.524808\n",
      "2012    56.597076\n",
      "2016    55.862648\n",
      "2017    55.456930\n",
      "2020    56.145076\n",
      "2021    56.078091\n",
      "Name: Ftemp, dtype: float64\n",
      "In 1953, the year's average temperature passes 55 degrees.\n"
     ]
    }
   ],
   "source": [
    "# Calculate yearly average temperature\n",
    "df['Year'] = pd.to_datetime(df['time']).dt.year\n",
    "yearly_avg_temp = df.groupby('Year')['Ftemp'].mean()\n",
    "\n",
    "# Find the first year where the average temperature passes 55 degrees Fahrenheit\n",
    "print(yearly_avg_temp[yearly_avg_temp > 55])\n",
    "\n",
    "# print(yearly_avg_temp[yearly_avg_temp > 55])\n",
    "print(f\"In 1953, the year's average temperature passes 55 degrees at the first time.\")"
   ]
  },
  {
   "cell_type": "markdown",
   "metadata": {},
   "source": [
    "# c)"
   ]
  },
  {
   "cell_type": "code",
   "execution_count": 45,
   "metadata": {},
   "outputs": [
    {
     "data": {
      "application/vnd.jupyter.widget-view+json": {
       "model_id": "1342d4c03a2d4b61b4ab43b6037b36f2",
       "version_major": 2,
       "version_minor": 0
      },
      "text/plain": [
       "interactive(children=(IntSlider(value=1950, description='Year', max=2021, min=1950), Output()), _dom_classes=(…"
      ]
     },
     "metadata": {},
     "output_type": "display_data"
    },
    {
     "data": {
      "text/plain": [
       "<function __main__.plot_seasonal_temps(year)>"
      ]
     },
     "execution_count": 45,
     "metadata": {},
     "output_type": "execute_result"
    }
   ],
   "source": [
    "seasons = {\n",
    "    1: 'Winter',\n",
    "    2: 'Winter',\n",
    "    3: 'Spring',\n",
    "    4: 'Spring',\n",
    "    5: 'Spring',\n",
    "    6: 'Summer',\n",
    "    7: 'Summer',\n",
    "    8: 'Summer',\n",
    "    9: 'Fall',\n",
    "    10: 'Fall',\n",
    "    11: 'Fall',\n",
    "    12: 'Winter'\n",
    "}\n",
    "\n",
    "df['Month'] = pd.to_datetime(df['time']).dt.month\n",
    "df['Season'] = df['Month'].map(seasons)\n",
    "df['Year'] = pd.to_datetime(df['time']).dt.year\n",
    "\n",
    "def plot_seasonal_temps(year):\n",
    "    year_data = df[df['Year'] == year]\n",
    "    \n",
    "    seasonal_avg_temps = year_data.groupby('Season')['Ftemp'].mean().reindex(['Winter', 'Spring', 'Summer', 'Fall'])\n",
    "    \n",
    "    plt.figure(figsize=(10, 6))\n",
    "    seasonal_avg_temps.plot(kind='bar', color=['blue', 'green', 'red', 'orange'])\n",
    "    plt.xlabel('Season')\n",
    "    plt.ylabel('Average Temperature (Fahrenheit)')\n",
    "    plt.title(f'Average Seasonal Temperatures in {year}')\n",
    "    plt.xticks(rotation=45)\n",
    "    plt.grid(axis='y')\n",
    "    plt.show()\n",
    "\n",
    "min_year = df['Year'].min()\n",
    "max_year = df['Year'].max()\n",
    "\n",
    "year_slider = IntSlider(min=min_year, max=max_year, step=1, description='Year')\n",
    "interact(plot_seasonal_temps, year=year_slider)"
   ]
  }
 ],
 "metadata": {
  "kernelspec": {
   "display_name": "Python 3",
   "language": "python",
   "name": "python3"
  },
  "language_info": {
   "codemirror_mode": {
    "name": "ipython",
    "version": 3
   },
   "file_extension": ".py",
   "mimetype": "text/x-python",
   "name": "python",
   "nbconvert_exporter": "python",
   "pygments_lexer": "ipython3",
   "version": "3.8.10"
  }
 },
 "nbformat": 4,
 "nbformat_minor": 2
}
